{
 "cells": [
  {
   "cell_type": "code",
   "execution_count": 1,
   "id": "19987edc",
   "metadata": {},
   "outputs": [],
   "source": [
    "def find_third_side(a, b, c):\n",
    "    \"\"\"Find the third side of a right-angled triangle given two sides.\"\"\"\n",
    "    if a > b and a > c:\n",
    "        return math.sqrt(b**2 + c**2)\n",
    "    elif b > a and b > c:\n",
    "        return math.sqrt(a**2 + c**2)\n",
    "    elif c > a and c > b:\n",
    "        return math.sqrt(a**2 + b**2)\n",
    "    else:\n",
    "        return \"The given sides do not form a right-angled triangle.\""
   ]
  },
  {
   "cell_type": "code",
   "execution_count": 2,
   "id": "61f08bfe",
   "metadata": {},
   "outputs": [
    {
     "name": "stdout",
     "output_type": "stream",
     "text": [
      "For a right-angled triangle, enter two sides.\n",
      "Enter the first side: 45\n",
      "Enter the second side: 45\n",
      "The given sides do not form a right-angled triangle.\n"
     ]
    }
   ],
   "source": [
    "print(\"For a right-angled triangle, enter two sides.\")\n",
    "side1 = float(input(\"Enter the first side: \"))\n",
    "side2 = float(input(\"Enter the second side: \"))\n",
    "result = find_third_side(side1, side2, 0)\n",
    "if isinstance(result, str):\n",
    "    print(result)\n",
    "else:\n",
    "    print(f\"The length of the third side is: {result:.2f}\")"
   ]
  },
  {
   "cell_type": "code",
   "execution_count": null,
   "id": "7e278fb2",
   "metadata": {},
   "outputs": [],
   "source": []
  }
 ],
 "metadata": {
  "kernelspec": {
   "display_name": "Python 3 (ipykernel)",
   "language": "python",
   "name": "python3"
  },
  "language_info": {
   "codemirror_mode": {
    "name": "ipython",
    "version": 3
   },
   "file_extension": ".py",
   "mimetype": "text/x-python",
   "name": "python",
   "nbconvert_exporter": "python",
   "pygments_lexer": "ipython3",
   "version": "3.11.5"
  }
 },
 "nbformat": 4,
 "nbformat_minor": 5
}
